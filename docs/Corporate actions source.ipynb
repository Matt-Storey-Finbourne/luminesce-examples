{
 "cells": [
  {
   "cell_type": "markdown",
   "id": "48d5ddf1",
   "metadata": {},
   "source": [
    "# Corporate actions source\n",
    "\n",
    "Click [HERE](magic-commands/Corporate actions source.ipynb) for a notebook which is runnable in LUSID's JupyterHub using the \n",
    "`%%luminesce` magic command.\n",
    "    "
   ]
  },
  {
   "cell_type": "markdown",
   "id": "e0718c62",
   "metadata": {},
   "source": [
    "#### Create corporate action source"
   ]
  },
  {
   "cell_type": "markdown",
   "id": "1339a455",
   "metadata": {},
   "source": [
    "```sql\n",
    "/*\n",
    "\n",
    "-------------------------------\n",
    "Create Corporate Action Sources\n",
    "-------------------------------\n",
    "\n",
    "Description:\n",
    "\n",
    "    - In this query, we create a corporate action source in LUSID\n",
    "\n",
    "More details:\n",
    "\n",
    "    https://support.lusid.com/knowledgebase/article/KA-02066/en-us\n",
    "\n",
    "*/\n",
    "\n",
    "@@corporateActionSourceScope = select 'luminesce-examples';\n",
    "@@corporateActionSourceCode = select 'example-corp-act-source';\n",
    "\n",
    "/*\n",
    "\n",
    "Step 1: Define a table containing sample information.\n",
    "\n",
    "*/\n",
    "\n",
    "@corporate_action_source_table =\n",
    "select  \n",
    "\"Sample Action Source\" as DisplayName,\n",
    "\"Source description\" as Description,\n",
    "@@corporateActionSourceScope as CorporateActionSourceScope,\n",
    "@@corporateActionSourceCode as CorporateActionSourceCode,\n",
    "\"Insert\" as WriteAction;\n",
    "\n",
    "/*\n",
    "\n",
    "Step 2: Write the corporate action source to LUSID.\n",
    "\n",
    "*/\n",
    "\n",
    "select * \n",
    "from Lusid.CorporateAction.Source.Writer\n",
    "where ToWrite = @corporate_action_source_table;\n",
    "```"
   ]
  },
  {
   "cell_type": "markdown",
   "id": "c430dc76",
   "metadata": {},
   "source": [
    "#### Read corporate action source"
   ]
  },
  {
   "cell_type": "markdown",
   "id": "d455766c",
   "metadata": {},
   "source": [
    "```sql\n",
    "/*\n",
    "\n",
    "-----------------------------\n",
    "Read Corporate Action Sources\n",
    "-----------------------------\n",
    "\n",
    "Description:\n",
    "\n",
    "    - In this query, we read a corporate action source from LUSID.\n",
    "\n",
    "More details:\n",
    "\n",
    "    https://support.lusid.com/knowledgebase/article/KA-02065/en-us\n",
    "\n",
    "*/\n",
    "\n",
    "@@corporateActionSourceScope = select 'luminesce-examples';\n",
    "@@corporateActionSourceCode = select 'example-corp-act-source';\n",
    "\n",
    "\n",
    "/*\n",
    "\n",
    "Step 1: Retrieve corresponding corporate action source from LUSID.\n",
    "\n",
    "*/\n",
    "\n",
    "select * \n",
    "from Lusid.CorporateAction.Source\n",
    "where CorporateActionSourceScope=@@corporateActionSourceScope\n",
    "and CorporateActionSourceCode=@@corporateActionSourceCode\n",
    "```"
   ]
  }
 ],
 "metadata": {},
 "nbformat": 4,
 "nbformat_minor": 5
}
