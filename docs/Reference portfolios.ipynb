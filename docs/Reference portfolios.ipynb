{
 "cells": [
  {
   "cell_type": "markdown",
   "id": "0821e35d",
   "metadata": {},
   "source": [
    "# Reference portfolios"
   ]
  },
  {
   "cell_type": "markdown",
   "id": "52097ad5",
   "metadata": {},
   "source": [
    "#### Step 1: Upload instruments"
   ]
  },
  {
   "cell_type": "markdown",
   "id": "8b948b89",
   "metadata": {},
   "source": [
    "```sql\n",
    "-- ============================================================\n",
    "-- Description:\n",
    "-- 1. In this query, we run an ETL process on some instruments.\n",
    "-- 2. First, we load an Excel file of instruments from Drive.\n",
    "-- 3. Next, we transform the shape of the instrument data.\n",
    "-- 4. Finally we upload the instrument data into LUSID.\n",
    "-- ============================================================\n",
    "\n",
    "-- Extract equity instrument data from LUSID Drive\n",
    "\n",
    "@instruments_data = use Drive.Excel\n",
    "--file=/luminesce-examples/reference_port.xlsx\n",
    "--worksheet=instruments\n",
    "enduse;\n",
    "\n",
    "-- Transform data using SQL\n",
    "\n",
    "@equity_instruments =\n",
    "select\n",
    "Name as DisplayName,\n",
    "ISIN as Isin,\n",
    "ClientInternal as ClientInternal,\n",
    "SEDOL as Sedol,\n",
    "'GBP' as DomCcy\n",
    "from @instruments_data;\n",
    "\n",
    "-- Upload the transformed data into LUSID\n",
    "\n",
    "select *\n",
    "from Lusid.Instrument.Equity.Writer\n",
    "where ToWrite = @equity_instruments;\n",
    "```"
   ]
  },
  {
   "cell_type": "markdown",
   "id": "f00021fa",
   "metadata": {},
   "source": [
    "#### Step 2: Create reference portfolio"
   ]
  },
  {
   "cell_type": "markdown",
   "id": "82e41163",
   "metadata": {},
   "source": [
    "```sql\n",
    "-- ============================================================\n",
    "-- Description:\n",
    "-- In this query, we create 2 reference portfolios.\n",
    "-- ============================================================\n",
    "\n",
    "-- Extract portfolio constituent data from LUSID Drive\n",
    "\n",
    "@portfolio_data = use Drive.Excel\n",
    "--file=/luminesce-examples/reference_port.xlsx\n",
    "--worksheet=constituents\n",
    "enduse;\n",
    "\n",
    "-- Define some variables for portfolio creation\n",
    "\n",
    "@@scope = select 'luminesce-examples';\n",
    "@@iso_currency = select 'GBP';\n",
    "@portfolio_codes = select distinct port as [port_code], currency from @portfolio_data;\n",
    "\n",
    "-- Define the upsert reference portfolio request\n",
    "\n",
    "@create_portfolio_request = select 'Reference' as PortfolioType,\n",
    "@@scope as PortfolioScope,\n",
    "port_code as PortfolioCode,\n",
    "port_code as DisplayName,\n",
    "port_code as Description,\n",
    "#2000-01-01# as Created,\n",
    "currency  as BaseCurrency from @portfolio_codes;\n",
    "\n",
    "-- Upload the portfolio into LUSID\n",
    "\n",
    "select * from Lusid.Portfolio.Writer\n",
    "where ToWrite = @create_portfolio_request;\n",
    "\n",
    "```"
   ]
  },
  {
   "cell_type": "markdown",
   "id": "3e77c639",
   "metadata": {},
   "source": [
    "#### Step 3: Upload constituents"
   ]
  },
  {
   "cell_type": "markdown",
   "id": "62013b3a",
   "metadata": {},
   "source": [
    "```sql\n",
    "-- ============================================================\n",
    "-- Description:\n",
    "-- In this query, we then add some constituents with different\n",
    "-- weights to the two new reference portfolios\n",
    "-- ============================================================\n",
    "\n",
    "-- Extract portfolio constituent data from LUSID Drive\n",
    "\n",
    "@portfolio_data = use Drive.Excel\n",
    "--file=/luminesce-examples/reference_port.xlsx\n",
    "--worksheet=constituents\n",
    "enduse;\n",
    "\n",
    "@@scope = select 'luminesce-examples';\n",
    "\n",
    "-- Transform extracted data\n",
    "\n",
    "@constituents =\n",
    "select\n",
    "currency as Currency,\n",
    "effective_date as EffectiveFrom,\n",
    "port as PortfolioCode,\n",
    "@@scope as PortfolioScope,\n",
    "inst_id as ClientInternal,\n",
    "weight as Weight\n",
    "from @portfolio_data;\n",
    "\n",
    "-- Add constituents to reference portfolios\n",
    "\n",
    "select * from Lusid.Portfolio.Constituent.Writer\n",
    "where ToWrite = @constituents;\n",
    "\n",
    "```"
   ]
  }
 ],
 "metadata": {},
 "nbformat": 4,
 "nbformat_minor": 5
}
