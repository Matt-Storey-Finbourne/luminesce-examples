{
 "cells": [
  {
   "cell_type": "markdown",
   "id": "a67e86e2",
   "metadata": {},
   "source": [
    "# Portfolios\n",
    "\n",
    "Click [HERE](magic-commands/Portfolios.ipynb) for a notebook which is runnable in LUSID's JupyterHub using the \n",
    "`%%luminesce` magic command.\n",
    "    "
   ]
  },
  {
   "cell_type": "markdown",
   "id": "04377ff4",
   "metadata": {},
   "source": [
    "#### Create transaction portfolio"
   ]
  },
  {
   "cell_type": "markdown",
   "id": "78b5478f",
   "metadata": {},
   "source": [
    "```sql\n",
    "-- ============================================================\n",
    "-- Description:\n",
    "-- 1. In this query, we create a Transaction Portfolio in LUSID\n",
    "-- ============================================================\n",
    "\n",
    "-- Defining scope and code variables\n",
    "@@portfolioScope =\n",
    "\n",
    "select 'IBOR';\n",
    "\n",
    "@@portfolioCode1 =\n",
    "\n",
    "select 'uk-equity';\n",
    "\n",
    "-- Define the portfolio data\n",
    "@create_portfolio =\n",
    "\n",
    "select 'Transaction' as PortfolioType, @@portfolioScope as PortfolioScope, @@portfolioCode1 as\n",
    "   PortfolioCode, @@portfolioCode1 as DisplayName, '' as Description, #2000-01-01# as Created, ''\n",
    "   as SubHoldingKeys, 'GBP' as BaseCurrency;\n",
    "\n",
    "-- Upload the portfolio into LUSID\n",
    "@response_create_portfolio =\n",
    "\n",
    "select *\n",
    "from Lusid.Portfolio.Writer\n",
    "where ToWrite = @create_portfolio;\n",
    "\n",
    "select *\n",
    "from @response_create_portfolio;\n",
    "```"
   ]
  }
 ],
 "metadata": {},
 "nbformat": 4,
 "nbformat_minor": 5
}
