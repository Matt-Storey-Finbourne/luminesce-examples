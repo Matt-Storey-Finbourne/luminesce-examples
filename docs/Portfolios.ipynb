{
 "cells": [
  {
   "cell_type": "markdown",
   "id": "747cfddb",
   "metadata": {},
   "source": [
    "# Portfolios"
   ]
  },
  {
   "cell_type": "markdown",
   "id": "db4ed30d",
   "metadata": {},
   "source": [
    "#### Create transaction portfolio"
   ]
  },
  {
   "cell_type": "markdown",
   "id": "c9293e32",
   "metadata": {},
   "source": [
    "```sql\n",
    "-- ============================================================\n",
    "-- Description:\n",
    "-- 1. In this query, we create a Transaction Portfolio in LUSID\n",
    "-- ============================================================\n",
    "\n",
    "-- Defining scope and code variables\n",
    "@@portfolioScope =\n",
    "\n",
    "select 'IBOR';\n",
    "\n",
    "@@portfolioCode1 =\n",
    "\n",
    "select 'uk-equity';\n",
    "\n",
    "-- Define the portfolio data\n",
    "@create_portfolio =\n",
    "\n",
    "select 'Transaction' as PortfolioType, @@portfolioScope as PortfolioScope, @@portfolioCode1 as\n",
    "   PortfolioCode, @@portfolioCode1 as DisplayName, '' as Description, #2000-01-01# as Created, ''\n",
    "   as SubHoldingKeys, 'GBP' as BaseCurrency;\n",
    "\n",
    "-- Upload the portfolio into LUSID\n",
    "@response_create_portfolio =\n",
    "\n",
    "select *\n",
    "from Lusid.Portfolio.Writer\n",
    "where ToWrite = @create_portfolio;\n",
    "\n",
    "select *\n",
    "from @response_create_portfolio;\n",
    "```"
   ]
  }
 ],
 "metadata": {},
 "nbformat": 4,
 "nbformat_minor": 5
}
