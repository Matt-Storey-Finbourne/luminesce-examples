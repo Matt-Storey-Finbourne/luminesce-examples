{
 "cells": [
  {
   "cell_type": "markdown",
   "id": "c3b81d42",
   "metadata": {},
   "source": [
    "# Quotes\n",
    "\n",
    "Click [HERE](magic-commands/Quotes.ipynb) for a notebook which is runnable in LUSID's JupyterHub using the \n",
    "`%%luminesce` magic command.\n",
    "    "
   ]
  },
  {
   "cell_type": "markdown",
   "id": "7c47ccc6",
   "metadata": {},
   "source": [
    "#### Upload fx quotes"
   ]
  },
  {
   "cell_type": "markdown",
   "id": "bfae5726",
   "metadata": {},
   "source": [
    "```sql\n",
    "-- =====================================================\n",
    "-- Description:\n",
    "-- In this query, we run an ETL process on FX quotes\n",
    "-- =====================================================\n",
    "\n",
    "-- Extract FX data from LUSID Drive\n",
    "\n",
    "@fx_price_data =\n",
    "use Drive.Excel\n",
    "--file=/luminesce-examples/daily_quotes.xlsx\n",
    "--worksheet=fx\n",
    "enduse;\n",
    "\n",
    "-- Run transformation on the data\n",
    "\n",
    "@quotes_for_upload = select\n",
    "'CurrencyPair' as InstrumentIdType,\n",
    "ccy_pair as Instrumentid,\n",
    "'luminesce-examples' as QuoteScope,\n",
    "'Rate' as QuoteType,\n",
    "'Lusid' as Provider,\n",
    "'Mid' as Field,\n",
    "price_date as QuoteEffectiveAt,\n",
    "close_price as Value,\n",
    "currency as Unit\n",
    "from @fx_price_data;\n",
    "\n",
    "-- Upload quotes into LUSID\n",
    "\n",
    "select * from Lusid.Instrument.Quote.Writer\n",
    "where ToWrite = @quotes_for_upload;\n",
    "\n",
    "```"
   ]
  }
 ],
 "metadata": {},
 "nbformat": 4,
 "nbformat_minor": 5
}
