{
 "cells": [
  {
   "cell_type": "markdown",
   "id": "a266293a",
   "metadata": {},
   "source": [
    "# Properties\n",
    "\n",
    "Click [HERE](magic-commands/Properties.ipynb) for a notebook which is runnable in LUSID's JupyterHub using the \n",
    "`%%luminesce` magic command.\n",
    "    "
   ]
  },
  {
   "cell_type": "markdown",
   "id": "2e0c60c9",
   "metadata": {},
   "source": [
    "#### Create instrument properties"
   ]
  },
  {
   "cell_type": "markdown",
   "id": "4f7588f6",
   "metadata": {},
   "source": [
    "```sql\n",
    "-- ==========================================================\n",
    "-- Description:\n",
    "-- 1. In this query, we create a set of instrument properties\n",
    "-- ==========================================================\n",
    "\n",
    "\n",
    "@@propertyScope = select 'IBOR';\n",
    "\n",
    "@property_definition =\n",
    "\n",
    "select\n",
    "'Sector' as [DisplayName],\n",
    "'Instrument' as [Domain],\n",
    "@@propertyScope as [PropertyScope],\n",
    "'Sector' as [PropertyCode],\n",
    "'Property' as [ConstraintStyle],\n",
    "'system' as [DataTypeScope],\n",
    "'string' as [DataTypeCode];\n",
    "\n",
    "select * from Lusid.Property.Definition.Writer\n",
    "where ToWrite = @property_definition;\n",
    "```"
   ]
  },
  {
   "cell_type": "markdown",
   "id": "26a9af82",
   "metadata": {},
   "source": [
    "#### Create properties from csv"
   ]
  },
  {
   "cell_type": "markdown",
   "id": "623ad5ac",
   "metadata": {},
   "source": [
    "```sql\n",
    "-- ==================================================================\n",
    "-- Description:\n",
    "-- 1. In this example, we create some properties in LUSID,\n",
    "-- loaded from a CSV files. To inline properties, so they can be used\n",
    "-- in other Luminesce queries, see this page here:\n",
    "-- https://support.lusid.com/knowledgebase/article/KA-01702/en-us\n",
    "-- ===================================================================\n",
    "\n",
    "-- Load a CSV file of properties from LUSID Drive\n",
    "\n",
    "@properties = use Drive.csv\n",
    "--file=/luminesce-examples/lusid_properties.csv\n",
    "enduse;\n",
    "\n",
    "-- Transform the CSV data into a LUSID format\n",
    "\n",
    "@property_definition = select\n",
    "PropertyName as [DisplayName],\n",
    "Domain as [Domain],\n",
    "Scope as [PropertyScope],\n",
    "PropertyCode as [PropertyCode],\n",
    "'Property' as [ConstraintStyle],\n",
    "'system' as [DataTypeScope],\n",
    "DataType as [DataTypeCode]\n",
    "from @properties;\n",
    "\n",
    "-- Upload the properties into LUSID\n",
    "\n",
    "select * from Lusid.Property.Definition.Writer\n",
    "where ToWrite = @property_definition;\n",
    "```"
   ]
  }
 ],
 "metadata": {},
 "nbformat": 4,
 "nbformat_minor": 5
}
