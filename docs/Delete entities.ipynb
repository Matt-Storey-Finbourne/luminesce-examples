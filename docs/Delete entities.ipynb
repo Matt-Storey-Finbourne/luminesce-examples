{
 "cells": [
  {
   "cell_type": "markdown",
   "id": "637922a7",
   "metadata": {},
   "source": [
    "# Delete entities\n",
    "\n",
    "You can run the cells below directly in LUSID's JupyterHub.\n",
    "\n",
    "The `%%luminesce` is a magic command which passes the cell query string to Lumipy,\n",
    "which then returns a DataFrame.\n",
    "    "
   ]
  },
  {
   "cell_type": "markdown",
   "id": "96ddf55b",
   "metadata": {},
   "source": [
    "#### Step 1: Delete quotes"
   ]
  },
  {
   "cell_type": "code",
   "execution_count": null,
   "id": "11b97b77",
   "metadata": {},
   "outputs": [],
   "source": [
    "%%luminesce\n",
    "\n",
    "/*\n",
    "\n",
    "--------------------------\n",
    "Delete all quotes in scope\n",
    "--------------------------\n",
    "\n",
    "WARNING: This script will bulk delete data from LUSID.\n",
    "\n",
    "https://support.lusid.com/knowledgebase/category/?id=CAT-01099\n",
    "\n",
    "*/\n",
    "\n",
    "@@scope =\n",
    "select 'luminesce-examples';\n",
    "\n",
    "@allDataInScope =\n",
    "select *, 'Delete' as WriteAction\n",
    "from Lusid.Instrument.Quote\n",
    "where QuoteScope = @@scope;\n",
    "\n",
    "select *\n",
    "from Lusid.Instrument.Quote.Writer\n",
    "where ToWrite = @allDataInScope;\n"
   ]
  },
  {
   "cell_type": "markdown",
   "id": "5b3597e9",
   "metadata": {},
   "source": [
    "#### Step 2: Delete instruments"
   ]
  },
  {
   "cell_type": "code",
   "execution_count": null,
   "id": "4ba9983a",
   "metadata": {},
   "outputs": [],
   "source": [
    "%%luminesce\n",
    "\n",
    "/*\n",
    "\n",
    "-------------------------------\n",
    "Delete all Instruments in scope\n",
    "-------------------------------\n",
    "\n",
    "WARNING: This script will bulk delete data from LUSID.\n",
    "\n",
    "https://support.lusid.com/knowledgebase/category/?id=CAT-01099\n",
    "\n",
    "*/\n",
    "\n",
    "@@scope =\n",
    "select 'luminesce-examples';\n",
    "\n",
    "@allDataInScope =\n",
    "select *, 'SoftDelete' as WriteAction\n",
    "from Lusid.Instrument\n",
    "where Scope = @@scope\n",
    "limit 500;\n",
    "\n",
    "select *\n",
    "from Lusid.Instrument.Writer\n",
    "where ToWrite = @allDataInScope;\n",
    "\n"
   ]
  },
  {
   "cell_type": "markdown",
   "id": "b15dc6b1",
   "metadata": {},
   "source": [
    "#### Step 3: Delete portfolios"
   ]
  },
  {
   "cell_type": "code",
   "execution_count": null,
   "id": "6afbc8fa",
   "metadata": {},
   "outputs": [],
   "source": [
    "%%luminesce\n",
    "\n",
    "/*\n",
    "\n",
    "------------------------------\n",
    "Delete all portfolios in scope\n",
    "------------------------------\n",
    "\n",
    "WARNING: This script will bulk delete data from LUSID.\n",
    "\n",
    "https://support.lusid.com/knowledgebase/category/?id=CAT-01099\n",
    "\n",
    "*/\n",
    "\n",
    "@@scope =\n",
    "select 'luminesce-examples';\n",
    "\n",
    "@allDataInScope =\n",
    "select *, 'Delete' as WriteAction\n",
    "from Lusid.Portfolio\n",
    "where PortfolioScope = @@scope;\n",
    "\n",
    "select *\n",
    "from Lusid.Portfolio.Writer\n",
    "where ToWrite = @allDataInScope;\n"
   ]
  },
  {
   "cell_type": "markdown",
   "id": "774480de",
   "metadata": {},
   "source": [
    "#### Step 4: Delete properties"
   ]
  },
  {
   "cell_type": "code",
   "execution_count": null,
   "id": "00efbfd1",
   "metadata": {},
   "outputs": [],
   "source": [
    "%%luminesce\n",
    "\n",
    "/*\n",
    "\n",
    "------------------------------\n",
    "Delete all properties in scope\n",
    "------------------------------\n",
    "\n",
    "WARNING: This script will bulk delete data from LUSID.\n",
    "\n",
    "https://support.lusid.com/knowledgebase/category/?id=CAT-01099\n",
    "\n",
    "*/\n",
    "\n",
    "@@scope =\n",
    "select 'luminesce-examples';\n",
    "\n",
    "@allDataInScope =\n",
    "select *, 'Delete' as WriteAction\n",
    "from Lusid.Property.Definition\n",
    "where PropertyScope = @@scope;\n",
    "\n",
    "select *\n",
    "from Lusid.Property.Definition.Writer\n",
    "where ToWrite = @allDataInScope;\n"
   ]
  },
  {
   "cell_type": "markdown",
   "id": "5fd62e9a",
   "metadata": {},
   "source": [
    "#### Step 5: Delete coa"
   ]
  },
  {
   "cell_type": "code",
   "execution_count": null,
   "id": "aa1cd71a",
   "metadata": {},
   "outputs": [],
   "source": [
    "%%luminesce\n",
    "\n",
    "/*\n",
    "\n",
    "-----------------------\n",
    "Delete all COA in scope\n",
    "-----------------------\n",
    "\n",
    "WARNING: This script will bulk delete data from LUSID.\n",
    "\n",
    "https://support.lusid.com/knowledgebase/category/?id=CAT-01099\n",
    "\n",
    "*/\n",
    "\n",
    "@@scope =\n",
    "select 'luminesce-examples';\n",
    "\n",
    "@allDataInScope =\n",
    "select *, 'Delete' as WriteAction\n",
    "from Lusid.ChartOfAccounts\n",
    "where ChartOfAccountsScope = @@scope;\n",
    "\n",
    "select *\n",
    "from Lusid.ChartOfAccounts.Writer\n",
    "where ToWrite = @allDataInScope;\n",
    "\n"
   ]
  },
  {
   "cell_type": "markdown",
   "id": "476ff1cd",
   "metadata": {},
   "source": [
    "#### Step 6: Delete gl profiles"
   ]
  },
  {
   "cell_type": "code",
   "execution_count": null,
   "id": "8b9ccb23",
   "metadata": {},
   "outputs": [],
   "source": [
    "%%luminesce\n",
    "\n",
    "/*\n",
    "\n",
    "-------------------------------\n",
    "Delete all GL Profiles in scope\n",
    "-------------------------------\n",
    "\n",
    "WARNING: This script will bulk delete data from LUSID.\n",
    "\n",
    "https://support.lusid.com/knowledgebase/category/?id=CAT-01099\n",
    "\n",
    "*/\n",
    "\n",
    "@@scope =\n",
    "select 'luminesce-examples';\n",
    "\n",
    "@allDataInScope =\n",
    "select *, 'Delete' as WriteAction\n",
    "from Lusid.GeneralLedgerProfile\n",
    "where ChartOfAccountsScope = @@scope;\n",
    "\n",
    "select *\n",
    "from Lusid.GeneralLedgerProfile.Writer\n",
    "where ToWrite = @allDataInScope;\n"
   ]
  }
 ],
 "metadata": {},
 "nbformat": 4,
 "nbformat_minor": 5
}
